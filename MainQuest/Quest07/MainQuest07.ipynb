{
 "cells": [
  {
   "cell_type": "markdown",
   "id": "86c48c96",
   "metadata": {},
   "source": [
    "## STEP 1. 데이터셋 구성"
   ]
  },
  {
   "cell_type": "code",
   "execution_count": 1,
   "id": "85edc12d",
   "metadata": {
    "scrolled": true
   },
   "outputs": [
    {
     "name": "stdout",
     "output_type": "stream",
     "text": [
      "2.6.0\n"
     ]
    }
   ],
   "source": [
    "# 필요 라이브러리 로딩\n",
    "from __future__ import absolute_import, division\n",
    "from __future__ import print_function, unicode_literals\n",
    "\n",
    "import os\n",
    "import time\n",
    "import shutil\n",
    "import functools\n",
    "\n",
    "import numpy as np\n",
    "import matplotlib.pyplot as plt\n",
    "%matplotlib inline\n",
    "import matplotlib as mpl\n",
    "mpl.rcParams['axes.grid'] = False\n",
    "mpl.rcParams['figure.figsize'] = (12,12)\n",
    "\n",
    "from sklearn.model_selection import train_test_split\n",
    "from sklearn.metrics import confusion_matrix\n",
    "import matplotlib.image as mpimg\n",
    "import pandas as pd\n",
    "from PIL import Image\n",
    "from IPython.display import clear_output\n",
    "\n",
    "import tensorflow as tf\n",
    "import tensorflow_addons as tfa\n",
    "print(tf.__version__)\n",
    "\n",
    "from tensorflow.keras import layers\n",
    "from tensorflow.keras import losses\n",
    "from tensorflow.keras import models"
   ]
  },
  {
   "cell_type": "code",
   "execution_count": 2,
   "id": "676c2636",
   "metadata": {},
   "outputs": [
    {
     "name": "stdout",
     "output_type": "stream",
     "text": [
      "Number of training examples: 240\n",
      "Number of test examples: 60\n"
     ]
    }
   ],
   "source": [
    "DATASET_PATH = os.path.join(os.getenv('HOME'), 'aiffel', 'medical')\n",
    "\n",
    "img_dir = os.path.join(DATASET_PATH, \"train\")\n",
    "label_dir = os.path.join(DATASET_PATH, \"train_labels\")\n",
    "\n",
    "x_train_filenames = [os.path.join(img_dir, filename) for filename in os.listdir(img_dir)]\n",
    "x_train_filenames.sort()\n",
    "y_train_filenames = [os.path.join(label_dir, filename) for filename in os.listdir(label_dir)]\n",
    "y_train_filenames.sort()\n",
    "\n",
    "x_train_filenames, x_test_filenames, y_train_filenames, y_test_filenames = \\\n",
    "                    train_test_split(x_train_filenames, y_train_filenames, test_size=0.2)\n",
    "\n",
    "num_train_examples = len(x_train_filenames)\n",
    "num_test_examples = len(x_test_filenames)\n",
    "\n",
    "print(\"Number of training examples: {}\".format(num_train_examples))\n",
    "print(\"Number of test examples: {}\".format(num_test_examples))"
   ]
  },
  {
   "cell_type": "code",
   "execution_count": 22,
   "id": "c9bffa31",
   "metadata": {},
   "outputs": [
    {
     "data": {
      "text/plain": [
       "<RepeatDataset shapes: ((None, 256, 256, 3), (None, 256, 256, 1)), types: (tf.float32, tf.float32)>"
      ]
     },
     "execution_count": 22,
     "metadata": {},
     "output_type": "execute_result"
    }
   ],
   "source": [
    "image_size = 256\n",
    "img_shape = (image_size, image_size, 3)\n",
    "batch_size = 4\n",
    "max_epochs = 10\n",
    "\n",
    "def _process_pathnames(fname, label_path):\n",
    "    img_str = tf.io.read_file(fname)\n",
    "    img = tf.image.decode_bmp(img_str, channels=3)\n",
    "\n",
    "    label_img_str = tf.io.read_file(label_path)\n",
    "    label_img = tf.image.decode_bmp(label_img_str, channels=3)\n",
    "    label_img = tf.image.rgb_to_grayscale(label_img)\n",
    "\n",
    "    resize = [image_size, image_size]\n",
    "    img = tf.image.resize(img, resize)\n",
    "    label_img = tf.image.resize(label_img, resize)\n",
    "\n",
    "    scale = 1 / 255.\n",
    "    img = tf.cast(img, dtype=tf.float32) * scale\n",
    "    label_img = tf.cast(label_img, dtype=tf.float32) * scale\n",
    "\n",
    "    return img, label_img\n",
    "\n",
    "def shift_img(output_img, label_img, width_shift_range, height_shift_range):\n",
    "    if width_shift_range or height_shift_range:\n",
    "        if width_shift_range:\n",
    "                width_shift_range = tf.random.uniform([],\n",
    "                                                  -width_shift_range * img_shape[1],\n",
    "                                                  width_shift_range * img_shape[1])\n",
    "        if height_shift_range:\n",
    "                height_shift_range = tf.random.uniform([],\n",
    "                                                   -height_shift_range * img_shape[0],\n",
    "                                                   height_shift_range * img_shape[0])\n",
    "        output_img = tfa.image.translate(output_img,\n",
    "                                         [width_shift_range, height_shift_range])\n",
    "        label_img = tfa.image.translate(label_img,\n",
    "                                        [width_shift_range, height_shift_range])\n",
    "    return output_img, label_img\n",
    "\n",
    "def flip_img(horizontal_flip, tr_img, label_img):\n",
    "    if horizontal_flip:\n",
    "        flip_prob = tf.random.uniform([], 0.0, 1.0)\n",
    "        tr_img, label_img = tf.cond(tf.less(flip_prob, 0.5),\n",
    "                                lambda: (tf.image.flip_left_right(tr_img), tf.image.flip_left_right(label_img)),\n",
    "                                lambda: (tr_img, label_img))\n",
    "    return tr_img, label_img\n",
    "\n",
    "def _augment(img,\n",
    "             label_img,\n",
    "             resize=None,  # Resize the image to some size e.g. [256, 256]\n",
    "             scale=1,  # Scale image e.g. 1 / 255.\n",
    "             hue_delta=0.,  # Adjust the hue of an RGB image by random factor\n",
    "             horizontal_flip=True,  # Random left right flip,\n",
    "             width_shift_range=0.05,  # Randomly translate the image horizontally\n",
    "             height_shift_range=0.05):  # Randomly translate the image vertically \n",
    "    if resize is not None:\n",
    "        # Resize both images\n",
    "        label_img = tf.image.resize(label_img, resize)\n",
    "        img = tf.image.resize(img, resize)\n",
    "  \n",
    "    if hue_delta:\n",
    "        img = tf.image.random_hue(img, hue_delta)\n",
    "  \n",
    "    img, label_img = flip_img(horizontal_flip, img, label_img)\n",
    "    img, label_img = shift_img(img, label_img, width_shift_range, height_shift_range)\n",
    "    label_img = tf.cast(label_img, dtype=tf.float32) * scale\n",
    "    img = tf.cast(img, dtype=tf.float32) * scale\n",
    "    return img, label_img\n",
    "\n",
    "def get_baseline_dataset(filenames,\n",
    "                         labels,\n",
    "                         preproc_fn=functools.partial(_augment),\n",
    "                         threads=4,\n",
    "                         batch_size=batch_size,\n",
    "                         is_train=True):\n",
    "    num_x = len(filenames)\n",
    "    # Create a dataset from the filenames and labels\n",
    "    dataset = tf.data.Dataset.from_tensor_slices((filenames, labels))\n",
    "    # Map our preprocessing function to every element in our dataset, taking\n",
    "    # advantage of multithreading\n",
    "    dataset = dataset.map(_process_pathnames, num_parallel_calls=threads)\n",
    "\n",
    "    if is_train:# 학습을 진행할시에만 위에 augment를 진행합니다.\n",
    "        #if preproc_fn.keywords is not None and 'resize' not in preproc_fn.keywords:\n",
    "        #  assert batch_size == 1, \"Batching images must be of the same size\"\n",
    "        dataset = dataset.map(preproc_fn, num_parallel_calls=threads)\n",
    "        dataset = dataset.shuffle(num_x * 10)\n",
    "\n",
    "    dataset = dataset.batch(batch_size)\n",
    "    return dataset\n",
    "\n",
    "train_dataset = get_baseline_dataset(x_train_filenames, # 학습 데이터\n",
    "                                     y_train_filenames) # 정답 데이터\n",
    "train_dataset = train_dataset.repeat()\n",
    "test_dataset = get_baseline_dataset(x_test_filenames,\n",
    "                                    y_test_filenames,\n",
    "                                    is_train=False)\n",
    "train_dataset"
   ]
  },
  {
   "cell_type": "markdown",
   "id": "0cb6b5e9",
   "metadata": {},
   "source": [
    "## STEP 2. pretrained model을 활용한 U-Net 모델 구성"
   ]
  },
  {
   "cell_type": "code",
   "execution_count": 31,
   "id": "ee434075",
   "metadata": {},
   "outputs": [],
   "source": [
    "def dice_loss(y_true, y_pred):\n",
    "    smooth = 1e-6\n",
    "    y_true_f = K.flatten(y_true)\n",
    "    y_pred_f = K.flatten(y_pred)\n",
    "    intersection = K.sum(y_true_f * y_pred_f)\n",
    "    return 1 - (2. * intersection + smooth) / (K.sum(y_true_f) + K.sum(y_pred_f) + smooth)\n",
    "\n",
    "\n",
    "def conv_block(inputs, num_filters):\n",
    "    x = layers.Conv2D(num_filters, 3, padding='same')(inputs)\n",
    "    x = layers.BatchNormalization()(x)\n",
    "    x = layers.ReLU()(x)\n",
    "    \n",
    "    x = layers.Conv2D(num_filters, 3, padding='same')(x)\n",
    "    x = layers.BatchNormalization()(x)\n",
    "    x = layers.ReLU()(x)\n",
    "    return x\n",
    "\n",
    "def decoder_block(inputs, skip_features, num_filters):\n",
    "    x = layers.Conv2DTranspose(num_filters, (2, 2), strides=2, padding='same')(inputs)\n",
    "    x = layers.Concatenate()([x, skip_features])\n",
    "    x = conv_block(x, num_filters)\n",
    "    return x\n",
    "\n",
    "def build_light_unet(input_shape):\n",
    "    inputs = layers.Input(input_shape)\n",
    "\n",
    "    # Encoder: EfficientNetB0\n",
    "    base_model = tf.keras.applications.EfficientNetB0(include_top=False, weights='imagenet', input_tensor=inputs)\n",
    "\n",
    "    skips = [\n",
    "        base_model.get_layer('block2a_expand_activation').output,\n",
    "        base_model.get_layer('block3a_expand_activation').output,\n",
    "        base_model.get_layer('block4a_expand_activation').output,\n",
    "        base_model.get_layer('block6a_expand_activation').output,\n",
    "    ]\n",
    "\n",
    "    encoder_output = base_model.output\n",
    "\n",
    "    # Decoder (가볍게: 필터 수 줄임)\n",
    "    x = decoder_block(encoder_output, skips[3], 256)\n",
    "    x = decoder_block(x, skips[2], 128)\n",
    "    x = decoder_block(x, skips[1], 64)\n",
    "    x = decoder_block(x, skips[0], 32)\n",
    "\n",
    "    ## 마지막 업샘플 추가\n",
    "    x = layers.Conv2DTranspose(16, (2, 2), strides=2, padding='same')(x)\n",
    "    x = conv_block(x, 16)\n",
    "\n",
    "    outputs = layers.Conv2D(1, 1, padding='same', activation='sigmoid')(x)\n",
    "\n",
    "    model = models.Model(inputs, outputs)\n",
    "    return model\n"
   ]
  },
  {
   "cell_type": "code",
   "execution_count": 32,
   "id": "fa739b1e",
   "metadata": {},
   "outputs": [
    {
     "name": "stdout",
     "output_type": "stream",
     "text": [
      "Downloading data from https://storage.googleapis.com/keras-applications/efficientnetb0_notop.h5\n",
      "16711680/16705208 [==============================] - 0s 0us/step\n",
      "16719872/16705208 [==============================] - 0s 0us/step\n"
     ]
    }
   ],
   "source": [
    "from tensorflow.keras.applications import EfficientNetB4\n",
    "from tensorflow.keras.callbacks import ModelCheckpoint, EarlyStopping\n",
    "import tensorflow.keras.backend as K\n",
    "\n",
    "DATASET_PATH = os.path.join(os.getenv('HOME'), 'aiffel', 'medical')\n",
    "\n",
    "checkpoint_path = os.path.join(DATASET_PATH, 'best_unet_model.h5')\n",
    "\n",
    "model = build_light_unet(input_shape=(256, 256, 3))\n",
    "\n",
    "model.compile(\n",
    "    optimizer=tf.keras.optimizers.Adam(learning_rate=1e-4),\n",
    "    loss=lambda y_true, y_pred: tf.keras.losses.binary_crossentropy(y_true, y_pred) + dice_loss(y_true, y_pred),\n",
    "    metrics=[tf.keras.metrics.MeanIoU(num_classes=2)]\n",
    ")\n",
    "\n",
    "checkpoint_cb = ModelCheckpoint(\n",
    "    checkpoint_path,\n",
    "    monitor='val_mean_io_u_8',\n",
    "    save_best_only=True,\n",
    "    mode='max',\n",
    "    verbose=1\n",
    ")\n",
    "\n",
    "early_stop_cb = EarlyStopping(\n",
    "    monitor='val_mean_io_u_8',\n",
    "    patience=5,\n",
    "    mode='max',\n",
    "    restore_best_weights=True,\n",
    "    verbose=1\n",
    ")\n"
   ]
  },
  {
   "cell_type": "code",
   "execution_count": 33,
   "id": "ffd26212",
   "metadata": {},
   "outputs": [
    {
     "name": "stdout",
     "output_type": "stream",
     "text": [
      "Epoch 1/30\n",
      "60/60 [==============================] - 20s 135ms/step - loss: 1.4094 - mean_io_u_8: 0.4752 - val_loss: 1.5713 - val_mean_io_u_8: 0.4737\n",
      "\n",
      "Epoch 00001: val_mean_io_u_8 improved from -inf to 0.47373, saving model to /aiffel/aiffel/medical/best_unet_model.h5\n",
      "Epoch 2/30\n",
      "60/60 [==============================] - 8s 109ms/step - loss: 1.2037 - mean_io_u_8: 0.4752 - val_loss: 1.5029 - val_mean_io_u_8: 0.4737\n",
      "\n",
      "Epoch 00002: val_mean_io_u_8 did not improve from 0.47373\n",
      "Epoch 3/30\n",
      "60/60 [==============================] - 8s 109ms/step - loss: 1.0151 - mean_io_u_8: 0.4753 - val_loss: 1.4245 - val_mean_io_u_8: 0.4737\n",
      "\n",
      "Epoch 00003: val_mean_io_u_8 did not improve from 0.47373\n",
      "Epoch 4/30\n",
      "60/60 [==============================] - 8s 107ms/step - loss: 0.9239 - mean_io_u_8: 0.4752 - val_loss: 1.3730 - val_mean_io_u_8: 0.4737\n",
      "\n",
      "Epoch 00004: val_mean_io_u_8 did not improve from 0.47373\n",
      "Epoch 5/30\n",
      "60/60 [==============================] - 8s 109ms/step - loss: 0.8657 - mean_io_u_8: 0.4754 - val_loss: 1.3017 - val_mean_io_u_8: 0.4737\n",
      "\n",
      "Epoch 00005: val_mean_io_u_8 did not improve from 0.47373\n",
      "Epoch 6/30\n",
      "60/60 [==============================] - 8s 108ms/step - loss: 0.8206 - mean_io_u_8: 0.4753 - val_loss: 1.3038 - val_mean_io_u_8: 0.4737\n",
      "\n",
      "Epoch 00006: val_mean_io_u_8 did not improve from 0.47373\n",
      "Restoring model weights from the end of the best epoch.\n",
      "Epoch 00006: early stopping\n"
     ]
    }
   ],
   "source": [
    "history = model.fit(\n",
    "    train_dataset,\n",
    "    validation_data=test_dataset,\n",
    "    epochs=30,\n",
    "    steps_per_epoch=len(x_train_filenames) // batch_size,\n",
    "    validation_steps=len(x_test_filenames) // batch_size,\n",
    "    callbacks=[checkpoint_cb, early_stop_cb]\n",
    ")\n"
   ]
  },
  {
   "cell_type": "code",
   "execution_count": 30,
   "id": "bb292d04",
   "metadata": {},
   "outputs": [
    {
     "data": {
      "image/png": "[encoded data removed]",
      "text/plain": [
       "<Figure size 1008x432 with 2 Axes>"
      ]
     },
     "metadata": {
      "needs_background": "light"
     },
     "output_type": "display_data"
    }
   ],
   "source": [
    "def plot_training_history(history):\n",
    "    acc = history.history.get('mean_io_u_7', history.history.get('mean_iou'))\n",
    "    val_acc = history.history.get('val_mean_io_u_7', history.history.get('val_mean_iou'))\n",
    "\n",
    "    loss = history.history.get('loss')\n",
    "    val_loss = history.history.get('val_loss')\n",
    "\n",
    "    epochs_range = range(len(loss))\n",
    "\n",
    "    plt.figure(figsize=(14, 6))\n",
    "\n",
    "    # Loss 그래프\n",
    "    plt.subplot(1, 2, 1)\n",
    "    if loss and val_loss:\n",
    "        plt.plot(epochs_range, loss, label='Training Loss')\n",
    "        plt.plot(epochs_range, val_loss, label='Validation Loss')\n",
    "        plt.title('Training and Validation Loss')\n",
    "        plt.xlabel('Epochs')\n",
    "        plt.ylabel('Loss')\n",
    "        plt.legend()\n",
    "\n",
    "    # MeanIoU 그래프\n",
    "    plt.subplot(1, 2, 2)\n",
    "    if acc and val_acc:\n",
    "        plt.plot(epochs_range, acc, label='Training MeanIoU')\n",
    "        plt.plot(epochs_range, val_acc, label='Validation MeanIoU')\n",
    "        plt.title('Training and Validation MeanIoU')\n",
    "        plt.xlabel('Epochs')\n",
    "        plt.ylabel('MeanIoU')\n",
    "        plt.legend()\n",
    "\n",
    "    plt.tight_layout()\n",
    "    plt.show()\n",
    "\n",
    "# 학습 결과 보기\n",
    "plot_training_history(history)\n"
   ]
  },
  {
   "cell_type": "markdown",
   "id": "174c0f3c",
   "metadata": {},
   "source": [
    "결론 : 지각으로 인해 늦게 시작해서 성능을 올리지 못하고 끝났습니다.."
   ]
  },
  {
   "cell_type": "code",
   "execution_count": null,
   "id": "1e50f7c7",
   "metadata": {},
   "outputs": [],
   "source": []
  }
 ],
 "metadata": {
  "kernelspec": {
   "display_name": "Python 3 (ipykernel)",
   "language": "python",
   "name": "python3"
  },
  "language_info": {
   "codemirror_mode": {
    "name": "ipython",
    "version": 3
   },
   "file_extension": ".py",
   "mimetype": "text/x-python",
   "name": "python",
   "nbconvert_exporter": "python",
   "pygments_lexer": "ipython3",
   "version": "3.9.7"
  }
 },
 "nbformat": 4,
 "nbformat_minor": 5
}
